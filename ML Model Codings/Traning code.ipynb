# 2nd latest training  code with hitrogram and with "pure gratscale" WITH EDGES mix

# latest traning code with hitrogram and with RGB WITH EDGES mix
!pip install opencv-python
!pip install tensorflow opencv-python

from google.colab import drive
import os
import cv2
import numpy as np
import tensorflow as tf
from tensorflow.keras import Input, Model
from tensorflow.keras.applications import ResNet50
from tensorflow.keras.layers import Dense, GlobalAveragePooling2D, Dropout
from tensorflow.keras.preprocessing.image import ImageDataGenerator
from tensorflow.keras.optimizers import Adam
from sklearn.neighbors import NearestNeighbors
import tensorflow as tf
print("Num GPUs Available: ", len(tf.config.list_physical_devices('GPU')))
# Mount Google Drive
drive.mount('/content/drive')

# Define dataset paths
train_dir = "/content/drive/MyDrive/Grand_final_1_traingdata"

# GPU Configuration
gpus = tf.config.experimental.list_physical_devices('GPU')
if gpus:
    try:
        for gpu in gpus:
            tf.config.experimental.set_memory_growth(gpu, True)
    except RuntimeError as e:
        print(e)

# Updated preprocessing function with histogram equalization to match testing code
def preprocess_image(img):
    # Ensure input is in uint8 format
    if img.dtype != np.uint8:
        img = img.astype(np.uint8)

    # Convert to grayscale
    gray = cv2.cvtColor(img, cv2.COLOR_RGB2GRAY)

    # Histogram Equalization
    equalized = cv2.equalizeHist(gray)

    # Edge Detection
    edges = cv2.Canny(equalized, 5000, 1000, apertureSize=5, L2gradient=True)
    kernel = np.ones((1, 1), np.uint8)
    closed_edges = cv2.morphologyEx(edges, cv2.MORPH_CLOSE, kernel)

    # Overlay edges on grayscale image
    overlay = equalized.copy()
    overlay[closed_edges == 255] = 255  # Highlight edges in white

    # Convert single-channel grayscale back to 3-channel image
    overlay_3ch = cv2.cvtColor(overlay, cv2.COLOR_GRAY2RGB)

    # Apply ResNet preprocessing
    return tf.keras.applications.resnet50.preprocess_input(overlay_3ch)

# ImageDataGenerator with augmentation and updated preprocessing
train_datagen = ImageDataGenerator(
    preprocessing_function=preprocess_image,  # Now includes histogram equalization and edge overlay
    rotation_range=15,
    width_shift_range=0.1,
    height_shift_range=0.1,
    shear_range=0.1,
    zoom_range=0.1,
    horizontal_flip=True
)

train_generator = train_datagen.flow_from_directory(
    train_dir,
    target_size=(224, 224),
    color_mode="rgb",
    batch_size=32,
    class_mode="categorical"
)

# Build ResNet-based model
def create_model(num_classes):
    base_model = ResNet50(
        weights='imagenet',
        include_top=False,
        input_shape=(224, 224, 3)
    )

    x = base_model.output
    x = GlobalAveragePooling2D()(x)
    x = Dense(512, activation='relu')(x)
    x = Dropout(0.3)(x)
    predictions = Dense(num_classes, activation='softmax')(x)

    model = Model(inputs=base_model.input, outputs=predictions)

    # Freeze base layers
    for layer in base_model.layers:
        layer.trainable = False

    return model

model = create_model(train_generator.num_classes)

# Custom learning rate
optimizer = Adam(learning_rate=1e-4)

model.compile(
    optimizer=optimizer,
    loss='categorical_crossentropy',
    metrics=['accuracy']
)

history = model.fit(
    train_generator,
    epochs=15,
)

# Save final model
model.save("/content/drive/MyDrive/model3/resnet_vehicle_model18.keras")