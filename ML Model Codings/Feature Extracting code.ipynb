# Pure grayscale feature extraction
!pip install ultralytics
!pip install opencv-python tensorflow

from ultralytics import YOLO
from google.colab import drive
import os
import cv2
import numpy as np
import tensorflow as tf
from tensorflow.keras import Model
from sklearn.neighbors import NearestNeighbors

# Load YOLOv8x model
yolo_model = YOLO('yolov8x.pt')

# Mount Google Drive
drive.mount('/content/drive')

# Define dataset paths
train_dir = "/content/drive/MyDrive/Grand_final_1_traingdata"

# Load the saved model
model = tf.keras.models.load_model("/content/drive/MyDrive/model3/resnet_vehicle_model18.keras")

# Feature extraction model
feature_extractor = Model(
    inputs=model.input,
    outputs=model.layers[-3].output  # Get 512-dim features
)

# Preprocessing function to match training code (pure grayscale with histogram equalization and edge overlay)
def preprocess_image(img):
    # Ensure input is in uint8 format
    if img.dtype != np.uint8:
        img = img.astype(np.uint8)

    # Convert to grayscale
    gray = cv2.cvtColor(img, cv2.COLOR_RGB2GRAY)

    # Histogram Equalization
    equalized = cv2.equalizeHist(gray)

    # Edge Detection
    edges = cv2.Canny(equalized, 5000, 1000, apertureSize=5, L2gradient=True)
    kernel = np.ones((1, 1), np.uint8)
    closed_edges = cv2.morphologyEx(edges, cv2.MORPH_CLOSE, kernel)

    # Overlay edges on grayscale image
    overlay = equalized.copy()
    overlay[closed_edges == 255] = 255  # Highlight edges in white

    # Convert single-channel grayscale back to 3-channel image for ResNet
    overlay_3ch = cv2.cvtColor(overlay, cv2.COLOR_GRAY2RGB)

    # Apply ResNet preprocessing
    return tf.keras.applications.resnet50.preprocess_input(overlay_3ch)

# Enhanced feature extraction with YOLOv8 detection
def extract_features_with_detection(directory, feature_extractor):
    features = []
    labels = []

    for root, _, files in os.walk(directory):
        for file in files:
            img_path = os.path.join(root, file)
            img = cv2.imread(img_path)

            if img is None:
                print(f"Warning: Could not read image {img_path}")
                continue

            # Convert to RGB for YOLO
            img_rgb = cv2.cvtColor(img, cv2.COLOR_BGR2RGB)

            # YOLOv8 detection
            results = yolo_model(img_rgb)

            # Process detections
            for result in results:
                # Extract bounding box information
                boxes = result.boxes.xyxy.cpu().numpy()
                classes = result.boxes.cls.cpu().numpy()
                confs = result.boxes.conf.cpu().numpy()

                for box, cls, conf in zip(boxes, classes, confs):
                    # Filter for cars (class 2) with confidence > 50%
                    if int(cls) == 2 and conf > 0.5:
                        x1, y1, x2, y2 = map(int, box)

                        try:
                            # Crop and process detected vehicle
                            cropped = img_rgb[y1:y2, x1:x2]

                            # Resize and preprocess
                            resized = cv2.resize(cropped, (224, 224))
                            processed = preprocess_image(resized)

                            # Extract features
                            feature = feature_extractor.predict(np.array([processed]))
                            features.append(feature.flatten())
                            labels.append(os.path.basename(root))

                        except Exception as e:
                            print(f"Error processing {img_path}: {str(e)}")

    return np.array(features), np.array(labels)

# Save features
train_features, train_labels = extract_features_with_detection(train_dir, feature_extractor)
np.save("/content/drive/MyDrive/model3/resnet_train_features18.npy", train_features)
np.save("/content/drive/MyDrive/model3/resnet_train_labels18.npy", train_labels)

# Initialize Nearest Neighbors
nn = NearestNeighbors(n_neighbors=3, metric='cosine')
nn.fit(train_features)

print("Enhanced feature extraction complete! Ready for classification.")